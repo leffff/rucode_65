{
 "cells": [
  {
   "cell_type": "code",
   "execution_count": 11,
   "id": "ce5e63d4-b7d4-4221-825a-d81ceac16769",
   "metadata": {
    "execution": {
     "iopub.execute_input": "2023-05-07T13:41:45.522505Z",
     "iopub.status.busy": "2023-05-07T13:41:45.522339Z",
     "iopub.status.idle": "2023-05-07T13:41:45.525622Z",
     "shell.execute_reply": "2023-05-07T13:41:45.525173Z",
     "shell.execute_reply.started": "2023-05-07T13:41:45.522491Z"
    },
    "tags": []
   },
   "outputs": [],
   "source": [
    "import torch\n",
    "import torch.nn as nn\n",
    "\n",
    "from transformers import AutoTokenizer, AutoModel\n",
    "\n",
    "from transformers import get_cosine_schedule_with_warmup\n",
    "\n",
    "from tqdm.auto import tqdm\n",
    "from sklearn.metrics import f1_score\n",
    "from torch.optim import AdamW\n",
    "\n",
    "import random\n",
    "\n",
    "import numpy as np\n",
    "import pandas as pd\n",
    "\n",
    "import os"
   ]
  },
  {
   "cell_type": "code",
   "execution_count": 12,
   "id": "b25165dc-bffb-42b4-9895-74b66db1f135",
   "metadata": {
    "execution": {
     "iopub.execute_input": "2023-05-07T13:41:45.704517Z",
     "iopub.status.busy": "2023-05-07T13:41:45.704353Z",
     "iopub.status.idle": "2023-05-07T13:41:45.707164Z",
     "shell.execute_reply": "2023-05-07T13:41:45.706647Z",
     "shell.execute_reply.started": "2023-05-07T13:41:45.704503Z"
    },
    "tags": []
   },
   "outputs": [],
   "source": [
    "from train import train_epoch, eval_epoch\n",
    "from model import MegaSiameseModel\n",
    "from dataset import TopG_Dataset, topg_collate"
   ]
  },
  {
   "cell_type": "code",
   "execution_count": 37,
   "id": "e2d826da-a1f1-4b4f-97fa-4b6dbd3070f3",
   "metadata": {
    "execution": {
     "iopub.execute_input": "2023-05-07T13:47:20.579726Z",
     "iopub.status.busy": "2023-05-07T13:47:20.579550Z",
     "iopub.status.idle": "2023-05-07T13:47:20.584094Z",
     "shell.execute_reply": "2023-05-07T13:47:20.583664Z",
     "shell.execute_reply.started": "2023-05-07T13:47:20.579712Z"
    },
    "tags": []
   },
   "outputs": [],
   "source": [
    "def single_model(model, \n",
    "                     dataset, \n",
    "                     loss_function,\n",
    "                     collate_fn,\n",
    "                     device=torch.device(\"cuda\"),\n",
    "                     random_state: int=69, \n",
    "                     shuffle=True,\n",
    "                     epochs: int=15, \n",
    "                     lr: float=1e-6,\n",
    "                     batch_size: int=32,\n",
    "                     start_epoch=0,\n",
    "                     ):\n",
    "    random.seed(random_state),\n",
    "    np.random.seed(random_state)\n",
    "    torch.manual_seed(random_state)\n",
    "    torch.cuda.manual_seed_all(random_state)\n",
    "    \n",
    "    loss_function.to(device)\n",
    "    model.to(device)\n",
    "    optimizer = AdamW(\n",
    "        model.parameters(),\n",
    "#        lr = lr, # args.learning_rate - default is 5e-5, our notebook had 2e-5\n",
    "    )\n",
    "    data_loader = torch.utils.data.DataLoader(\n",
    "                    dataset,\n",
    "                    batch_size=batch_size,\n",
    "                    shuffle=shuffle,\n",
    "                     collate_fn=collate_fn\n",
    "    )\n",
    "    \n",
    "    total_steps = len(data_loader) * epochs \n",
    "\n",
    "    scheduler = get_cosine_schedule_with_warmup(optimizer, \n",
    "                                            num_warmup_steps = 0, # Default value in run_glue.py\n",
    "                                            num_training_steps = total_steps)\n",
    "\n",
    "    for epoch_i in range(0, epochs):\n",
    "        if epoch_i >= start_epoch:\n",
    "            train_metrics = train_epoch(model, data_loader, loss_function, optimizer, scheduler, device)\n",
    "            print(\"EPOCH\", epoch_i)\n",
    "            print(train_metrics)\n",
    "            #eval_metrics = eval_epoch(model, eval_loader, loss_function, device)\n",
    "            #print(eval_metrics)"
   ]
  },
  {
   "cell_type": "code",
   "execution_count": 38,
   "id": "f6ad9845-a447-4fda-b99d-75c54ef516de",
   "metadata": {
    "execution": {
     "iopub.execute_input": "2023-05-07T13:47:20.756515Z",
     "iopub.status.busy": "2023-05-07T13:47:20.756343Z",
     "iopub.status.idle": "2023-05-07T13:47:20.792447Z",
     "shell.execute_reply": "2023-05-07T13:47:20.791975Z",
     "shell.execute_reply.started": "2023-05-07T13:47:20.756501Z"
    },
    "tags": []
   },
   "outputs": [],
   "source": [
    "DATA = \"data/\"\n",
    "train = pd.read_csv(f\"{DATA}train.csv\")"
   ]
  },
  {
   "cell_type": "code",
   "execution_count": 39,
   "id": "600ae180-7c32-4dc6-ac59-76e44a4a22f3",
   "metadata": {
    "execution": {
     "iopub.execute_input": "2023-05-07T13:47:21.075917Z",
     "iopub.status.busy": "2023-05-07T13:47:21.075750Z",
     "iopub.status.idle": "2023-05-07T13:47:23.166849Z",
     "shell.execute_reply": "2023-05-07T13:47:23.166462Z",
     "shell.execute_reply.started": "2023-05-07T13:47:21.075904Z"
    },
    "tags": []
   },
   "outputs": [
    {
     "name": "stderr",
     "output_type": "stream",
     "text": [
      "Some weights of the model checkpoint at cointegrated/rubert-tiny2 were not used when initializing BertModel: ['cls.predictions.transform.LayerNorm.weight', 'cls.seq_relationship.bias', 'cls.seq_relationship.weight', 'cls.predictions.decoder.weight', 'cls.predictions.transform.dense.bias', 'cls.predictions.decoder.bias', 'cls.predictions.transform.dense.weight', 'cls.predictions.bias', 'cls.predictions.transform.LayerNorm.bias']\n",
      "- This IS expected if you are initializing BertModel from the checkpoint of a model trained on another task or with another architecture (e.g. initializing a BertForSequenceClassification model from a BertForPreTraining model).\n",
      "- This IS NOT expected if you are initializing BertModel from the checkpoint of a model that you expect to be exactly identical (initializing a BertForSequenceClassification model from a BertForSequenceClassification model).\n",
      "Some weights of the model checkpoint at cointegrated/rubert-tiny2 were not used when initializing BertModel: ['cls.predictions.transform.LayerNorm.weight', 'cls.seq_relationship.bias', 'cls.seq_relationship.weight', 'cls.predictions.decoder.weight', 'cls.predictions.transform.dense.bias', 'cls.predictions.decoder.bias', 'cls.predictions.transform.dense.weight', 'cls.predictions.bias', 'cls.predictions.transform.LayerNorm.bias']\n",
      "- This IS expected if you are initializing BertModel from the checkpoint of a model trained on another task or with another architecture (e.g. initializing a BertForSequenceClassification model from a BertForPreTraining model).\n",
      "- This IS NOT expected if you are initializing BertModel from the checkpoint of a model that you expect to be exactly identical (initializing a BertForSequenceClassification model from a BertForSequenceClassification model).\n"
     ]
    }
   ],
   "source": [
    "\n",
    "tokenizer = AutoTokenizer.from_pretrained(\"cointegrated/rubert-tiny2\")\n",
    "\n",
    "#model = AutoModelForPreTraining.from_pretrained(\"cointegrated/rubert-tiny2\")\n",
    "bert1 = AutoModel.from_pretrained(\"cointegrated/rubert-tiny2\")\n",
    "bert2 = AutoModel.from_pretrained(\"cointegrated/rubert-tiny2\")\n",
    "model = MegaSiameseModel(bert1, bert2, 2)"
   ]
  },
  {
   "cell_type": "code",
   "execution_count": 40,
   "id": "b2bda583-67a3-4651-8b0e-f9e41048793d",
   "metadata": {
    "execution": {
     "iopub.execute_input": "2023-05-07T13:47:23.167721Z",
     "iopub.status.busy": "2023-05-07T13:47:23.167558Z",
     "iopub.status.idle": "2023-05-07T13:47:25.114216Z",
     "shell.execute_reply": "2023-05-07T13:47:25.113733Z",
     "shell.execute_reply.started": "2023-05-07T13:47:23.167708Z"
    },
    "tags": []
   },
   "outputs": [],
   "source": [
    "dataset = TopG_Dataset(train, tokenizer, 200, 60)"
   ]
  },
  {
   "cell_type": "code",
   "execution_count": null,
   "id": "65da88dc-4f07-4e6a-b765-ae72996a2adb",
   "metadata": {
    "execution": {
     "iopub.execute_input": "2023-05-07T13:47:25.114819Z",
     "iopub.status.busy": "2023-05-07T13:47:25.114687Z"
    },
    "tags": []
   },
   "outputs": [
    {
     "data": {
      "application/vnd.jupyter.widget-view+json": {
       "model_id": "c2d5e118387c4aaeab0dee812762bf5d",
       "version_major": 2,
       "version_minor": 0
      },
      "text/plain": [
       "  0%|          | 0/193 [00:00<?, ?it/s]"
      ]
     },
     "metadata": {},
     "output_type": "display_data"
    },
    {
     "name": "stdout",
     "output_type": "stream",
     "text": [
      "EPOCH 0\n",
      "{'Train Loss': 0.5796950814637496, 'Train Accuracy': 0.7210209965705872, 'Train F1*100': 70.7865168539326}\n"
     ]
    },
    {
     "data": {
      "application/vnd.jupyter.widget-view+json": {
       "model_id": "93876f3971f04f71a3d39de28735360b",
       "version_major": 2,
       "version_minor": 0
      },
      "text/plain": [
       "  0%|          | 0/193 [00:00<?, ?it/s]"
      ]
     },
     "metadata": {},
     "output_type": "display_data"
    },
    {
     "name": "stdout",
     "output_type": "stream",
     "text": [
      "EPOCH 1\n",
      "{'Train Loss': 0.5507272705821793, 'Train Accuracy': 0.752560555934906, 'Train F1*100': 74.54849498327759}\n"
     ]
    },
    {
     "data": {
      "application/vnd.jupyter.widget-view+json": {
       "model_id": "2da5b85e4efc4a41ad8c6443f4609ae2",
       "version_major": 2,
       "version_minor": 0
      },
      "text/plain": [
       "  0%|          | 0/193 [00:00<?, ?it/s]"
      ]
     },
     "metadata": {},
     "output_type": "display_data"
    },
    {
     "name": "stdout",
     "output_type": "stream",
     "text": [
      "EPOCH 2\n",
      "{'Train Loss': 0.5712387172669326, 'Train Accuracy': 0.7382539510726929, 'Train F1*100': 73.30901856763926}\n"
     ]
    },
    {
     "data": {
      "application/vnd.jupyter.widget-view+json": {
       "model_id": "96a74ff6f9f14c4086ddc1d03fb48056",
       "version_major": 2,
       "version_minor": 0
      },
      "text/plain": [
       "  0%|          | 0/193 [00:00<?, ?it/s]"
      ]
     },
     "metadata": {},
     "output_type": "display_data"
    },
    {
     "name": "stdout",
     "output_type": "stream",
     "text": [
      "EPOCH 3\n",
      "{'Train Loss': 0.5707265342455454, 'Train Accuracy': 0.7293123006820679, 'Train F1*100': 71.26833477135462}\n"
     ]
    },
    {
     "data": {
      "application/vnd.jupyter.widget-view+json": {
       "model_id": "cf3092b2520e4f7a9b487e7680d28781",
       "version_major": 2,
       "version_minor": 0
      },
      "text/plain": [
       "  0%|          | 0/193 [00:00<?, ?it/s]"
      ]
     },
     "metadata": {},
     "output_type": "display_data"
    },
    {
     "name": "stdout",
     "output_type": "stream",
     "text": [
      "EPOCH 4\n",
      "{'Train Loss': 0.5630969778861407, 'Train Accuracy': 0.7312632203102112, 'Train F1*100': 70.8208296557811}\n"
     ]
    },
    {
     "data": {
      "application/vnd.jupyter.widget-view+json": {
       "model_id": "4d3af795d2364aa884bb7ed44d560d92",
       "version_major": 2,
       "version_minor": 0
      },
      "text/plain": [
       "  0%|          | 0/193 [00:00<?, ?it/s]"
      ]
     },
     "metadata": {},
     "output_type": "display_data"
    },
    {
     "name": "stdout",
     "output_type": "stream",
     "text": [
      "EPOCH 5\n",
      "{'Train Loss': 0.5823116112558335, 'Train Accuracy': 0.7205332517623901, 'Train F1*100': 67.41232227488152}\n"
     ]
    },
    {
     "data": {
      "application/vnd.jupyter.widget-view+json": {
       "model_id": "ca92699f69be4224868773446cb499af",
       "version_major": 2,
       "version_minor": 0
      },
      "text/plain": [
       "  0%|          | 0/193 [00:00<?, ?it/s]"
      ]
     },
     "metadata": {},
     "output_type": "display_data"
    },
    {
     "name": "stdout",
     "output_type": "stream",
     "text": [
      "EPOCH 6\n",
      "{'Train Loss': 0.5387461676498769, 'Train Accuracy': 0.7623150944709778, 'Train F1*100': 76.95460277427492}\n"
     ]
    },
    {
     "data": {
      "application/vnd.jupyter.widget-view+json": {
       "model_id": "3f18e25eb82d4897bc49235a3ce3e271",
       "version_major": 2,
       "version_minor": 0
      },
      "text/plain": [
       "  0%|          | 0/193 [00:00<?, ?it/s]"
      ]
     },
     "metadata": {},
     "output_type": "display_data"
    }
   ],
   "source": [
    "single_model(model = model,\n",
    "             dataset=dataset, \n",
    "             loss_function=nn.CrossEntropyLoss(), \n",
    "             collate_fn=topg_collate,\n",
    "             device=torch.device(\"cuda\"),\n",
    "                     random_state=69,\n",
    "                     shuffle=True)"
   ]
  },
  {
   "cell_type": "code",
   "execution_count": null,
   "id": "3eb21ff4-329b-4bd6-a105-108b3e88dde9",
   "metadata": {},
   "outputs": [],
   "source": []
  }
 ],
 "metadata": {
  "kernelspec": {
   "display_name": "Python 3 (ipykernel)",
   "language": "python",
   "name": "python3"
  },
  "language_info": {
   "codemirror_mode": {
    "name": "ipython",
    "version": 3
   },
   "file_extension": ".py",
   "mimetype": "text/x-python",
   "name": "python",
   "nbconvert_exporter": "python",
   "pygments_lexer": "ipython3",
   "version": "3.10.6"
  }
 },
 "nbformat": 4,
 "nbformat_minor": 5
}
