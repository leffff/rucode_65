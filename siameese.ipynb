{
 "cells": [
  {
   "cell_type": "code",
   "execution_count": 12,
   "id": "ce5e63d4-b7d4-4221-825a-d81ceac16769",
   "metadata": {
    "execution": {
     "iopub.execute_input": "2023-05-07T14:09:37.833053Z",
     "iopub.status.busy": "2023-05-07T14:09:37.832883Z",
     "iopub.status.idle": "2023-05-07T14:09:37.836195Z",
     "shell.execute_reply": "2023-05-07T14:09:37.835687Z",
     "shell.execute_reply.started": "2023-05-07T14:09:37.833039Z"
    },
    "tags": []
   },
   "outputs": [],
   "source": [
    "import torch\n",
    "import torch.nn as nn\n",
    "\n",
    "from transformers import AutoTokenizer, AutoModel\n",
    "\n",
    "from transformers import get_cosine_schedule_with_warmup\n",
    "\n",
    "from tqdm.auto import tqdm\n",
    "from sklearn.metrics import f1_score\n",
    "from torch.optim import AdamW\n",
    "\n",
    "import random\n",
    "\n",
    "import numpy as np\n",
    "import pandas as pd\n",
    "\n",
    "import os\n",
    "\n",
    "from sklearn.model_selection import KFold, StratifiedKFold"
   ]
  },
  {
   "cell_type": "code",
   "execution_count": 2,
   "id": "b25165dc-bffb-42b4-9895-74b66db1f135",
   "metadata": {
    "execution": {
     "iopub.execute_input": "2023-05-07T13:59:12.226039Z",
     "iopub.status.busy": "2023-05-07T13:59:12.225906Z",
     "iopub.status.idle": "2023-05-07T13:59:12.229526Z",
     "shell.execute_reply": "2023-05-07T13:59:12.229020Z",
     "shell.execute_reply.started": "2023-05-07T13:59:12.226026Z"
    },
    "tags": []
   },
   "outputs": [],
   "source": [
    "from train import train_epoch, eval_epoch\n",
    "from model import MegaSiameseModel\n",
    "from dataset import TopG_Dataset, topg_collate"
   ]
  },
  {
   "cell_type": "code",
   "execution_count": 3,
   "id": "e2d826da-a1f1-4b4f-97fa-4b6dbd3070f3",
   "metadata": {
    "execution": {
     "iopub.execute_input": "2023-05-07T13:59:12.230274Z",
     "iopub.status.busy": "2023-05-07T13:59:12.230018Z",
     "iopub.status.idle": "2023-05-07T13:59:12.305068Z",
     "shell.execute_reply": "2023-05-07T13:59:12.304567Z",
     "shell.execute_reply.started": "2023-05-07T13:59:12.230260Z"
    },
    "tags": []
   },
   "outputs": [],
   "source": [
    "def single_model(model, \n",
    "                     dataset, \n",
    "                     loss_function,\n",
    "                     collate_fn,\n",
    "                     device=torch.device(\"cuda\"),\n",
    "                     random_state: int=69, \n",
    "                     shuffle=True,\n",
    "                     epochs: int=15, \n",
    "                     lr: float=1e-6,\n",
    "                     batch_size: int=32,\n",
    "                     start_epoch=0,\n",
    "                     ):\n",
    "    random.seed(random_state),\n",
    "    np.random.seed(random_state)\n",
    "    torch.manual_seed(random_state)\n",
    "    torch.cuda.manual_seed_all(random_state)\n",
    "    \n",
    "    loss_function.to(device)\n",
    "    model.to(device)\n",
    "    optimizer = AdamW(\n",
    "        model.parameters(),\n",
    "#        lr = lr, # args.learning_rate - default is 5e-5, our notebook had 2e-5\n",
    "    )\n",
    "    data_loader = torch.utils.data.DataLoader(\n",
    "                    dataset,\n",
    "                    batch_size=batch_size,\n",
    "                    shuffle=shuffle,\n",
    "                     collate_fn=collate_fn\n",
    "    )\n",
    "    \n",
    "    total_steps = len(data_loader) * epochs \n",
    "\n",
    "    scheduler = get_cosine_schedule_with_warmup(optimizer, \n",
    "                                            num_warmup_steps = 0, # Default value in run_glue.py\n",
    "                                            num_training_steps = total_steps)\n",
    "\n",
    "    for epoch_i in range(0, epochs):\n",
    "        if epoch_i >= start_epoch:\n",
    "            train_metrics = train_epoch(model, data_loader, loss_function, optimizer, scheduler, device)\n",
    "            print(\"EPOCH\", epoch_i)\n",
    "            print(train_metrics)\n",
    "            #eval_metrics = eval_epoch(model, eval_loader, loss_function, device)\n",
    "            #print(eval_metrics)"
   ]
  },
  {
   "cell_type": "code",
   "execution_count": 4,
   "id": "f6ad9845-a447-4fda-b99d-75c54ef516de",
   "metadata": {
    "execution": {
     "iopub.execute_input": "2023-05-07T13:59:12.306019Z",
     "iopub.status.busy": "2023-05-07T13:59:12.305576Z",
     "iopub.status.idle": "2023-05-07T13:59:12.400775Z",
     "shell.execute_reply": "2023-05-07T13:59:12.400319Z",
     "shell.execute_reply.started": "2023-05-07T13:59:12.305998Z"
    },
    "tags": []
   },
   "outputs": [],
   "source": [
    "DATA = \"data/\"\n",
    "train = pd.read_csv(f\"{DATA}train.csv\")"
   ]
  },
  {
   "cell_type": "code",
   "execution_count": 5,
   "id": "600ae180-7c32-4dc6-ac59-76e44a4a22f3",
   "metadata": {
    "execution": {
     "iopub.execute_input": "2023-05-07T13:59:12.401728Z",
     "iopub.status.busy": "2023-05-07T13:59:12.401307Z",
     "iopub.status.idle": "2023-05-07T13:59:14.686339Z",
     "shell.execute_reply": "2023-05-07T13:59:14.685941Z",
     "shell.execute_reply.started": "2023-05-07T13:59:12.401712Z"
    },
    "tags": []
   },
   "outputs": [
    {
     "name": "stderr",
     "output_type": "stream",
     "text": [
      "Some weights of the model checkpoint at cointegrated/rubert-tiny2 were not used when initializing BertModel: ['cls.predictions.transform.LayerNorm.bias', 'cls.seq_relationship.weight', 'cls.predictions.decoder.weight', 'cls.predictions.transform.dense.bias', 'cls.predictions.bias', 'cls.predictions.transform.LayerNorm.weight', 'cls.seq_relationship.bias', 'cls.predictions.transform.dense.weight', 'cls.predictions.decoder.bias']\n",
      "- This IS expected if you are initializing BertModel from the checkpoint of a model trained on another task or with another architecture (e.g. initializing a BertForSequenceClassification model from a BertForPreTraining model).\n",
      "- This IS NOT expected if you are initializing BertModel from the checkpoint of a model that you expect to be exactly identical (initializing a BertForSequenceClassification model from a BertForSequenceClassification model).\n",
      "Some weights of the model checkpoint at cointegrated/rubert-tiny2 were not used when initializing BertModel: ['cls.predictions.transform.LayerNorm.bias', 'cls.seq_relationship.weight', 'cls.predictions.decoder.weight', 'cls.predictions.transform.dense.bias', 'cls.predictions.bias', 'cls.predictions.transform.LayerNorm.weight', 'cls.seq_relationship.bias', 'cls.predictions.transform.dense.weight', 'cls.predictions.decoder.bias']\n",
      "- This IS expected if you are initializing BertModel from the checkpoint of a model trained on another task or with another architecture (e.g. initializing a BertForSequenceClassification model from a BertForPreTraining model).\n",
      "- This IS NOT expected if you are initializing BertModel from the checkpoint of a model that you expect to be exactly identical (initializing a BertForSequenceClassification model from a BertForSequenceClassification model).\n"
     ]
    }
   ],
   "source": [
    "\n",
    "tokenizer = AutoTokenizer.from_pretrained(\"cointegrated/rubert-tiny2\")\n",
    "\n",
    "#model = AutoModelForPreTraining.from_pretrained(\"cointegrated/rubert-tiny2\")\n",
    "bert1 = AutoModel.from_pretrained(\"cointegrated/rubert-tiny2\")\n",
    "bert2 = AutoModel.from_pretrained(\"cointegrated/rubert-tiny2\")\n",
    "model = MegaSiameseModel(bert1, bert2, 2)"
   ]
  },
  {
   "cell_type": "code",
   "execution_count": 6,
   "id": "b2bda583-67a3-4651-8b0e-f9e41048793d",
   "metadata": {
    "execution": {
     "iopub.execute_input": "2023-05-07T13:59:14.687040Z",
     "iopub.status.busy": "2023-05-07T13:59:14.686841Z",
     "iopub.status.idle": "2023-05-07T13:59:16.664858Z",
     "shell.execute_reply": "2023-05-07T13:59:16.664362Z",
     "shell.execute_reply.started": "2023-05-07T13:59:14.687023Z"
    },
    "tags": []
   },
   "outputs": [],
   "source": [
    "dataset = TopG_Dataset(train, tokenizer, 200, 60)"
   ]
  },
  {
   "cell_type": "code",
   "execution_count": 15,
   "id": "fe40f0d7-1f64-447a-91a7-1ec5b6d2dbc4",
   "metadata": {
    "execution": {
     "iopub.execute_input": "2023-05-07T14:17:28.312694Z",
     "iopub.status.busy": "2023-05-07T14:17:28.312449Z",
     "iopub.status.idle": "2023-05-07T14:17:28.318314Z",
     "shell.execute_reply": "2023-05-07T14:17:28.317927Z",
     "shell.execute_reply.started": "2023-05-07T14:17:28.312669Z"
    },
    "tags": []
   },
   "outputs": [],
   "source": [
    "def cross_validation(project_name,\n",
    "                     model, \n",
    "                     dataset, \n",
    "                     loss_function,\n",
    "                     collate_fn,\n",
    "                     strat_array=None,\n",
    "                     device=torch.device(\"cuda\"),\n",
    "                     random_state: int=69, \n",
    "                     shuffle: bool=True, \n",
    "                     n_folds: int=4, \n",
    "                     epochs: int=5, \n",
    "                     lr: float=1e-6,\n",
    "                     start_fold: int=0, \n",
    "                     batch_size: int=32,\n",
    "                     iters_to_accumulate=None,\n",
    "                     n_accumulated_grads: int = 0):\n",
    "    random.seed(random_state),\n",
    "    np.random.seed(random_state)\n",
    "    torch.manual_seed(random_state)\n",
    "    torch.cuda.manual_seed_all(random_state)\n",
    "    \n",
    "    loss_function.to(device)\n",
    "    if strat_array:\n",
    "        kfold = StratifiedKFold(n_folds, shuffle=shuffle, random_state=random_state)\n",
    "        split = kfold.split(dataset, strat_array)\n",
    "    else: \n",
    "        kfold = KFold(n_folds, shuffle=shuffle, random_state=random_state)\n",
    "        split = kfold.split(dataset)\n",
    "\n",
    "    for fold, (train_ids, eval_ids) in enumerate(split):\n",
    "        if fold >= start_fold:\n",
    "            print(f'FOLD {fold}')\n",
    "            print('--------------------------------')\n",
    "            \n",
    "            \n",
    "            '''run = wandb.init(\n",
    "                name=f\"fold_{fold}\",\n",
    "                project=f\"{project_name}_fold_{fold}\",\n",
    "                config={ \n",
    "                         \"random_state\": random_state, \n",
    "                         \"shuffle\": shuffle,\n",
    "                         \"epochs\": epochs, \n",
    "                         \"learning_rate\": lr,\n",
    "                         \"batch_size\": batch_size,\n",
    "                         \"iters_to_accumulate\": iters_to_accumulate\n",
    "                        }\n",
    "            )'''\n",
    "\n",
    "            optimizer = AdamW(\n",
    "            model.parameters(),\n",
    "            #lr = lr, # args.learning_rate - default is 5e-5, our notebook had 2e-5\n",
    "        )\n",
    "\n",
    "            train_subsampler = torch.utils.data.Subset(dataset,  train_ids)\n",
    "            train_loader = torch.utils.data.DataLoader(\n",
    "                          train_subsampler, \n",
    "                          batch_size=batch_size,\n",
    "                          shuffle=shuffle,collate_fn=collate_fn,drop_last=True)\n",
    "\n",
    "            eval_subsampler = torch.utils.data.Subset(dataset,  eval_ids)\n",
    "            eval_loader = torch.utils.data.DataLoader(\n",
    "                          eval_subsampler,\n",
    "                          batch_size=batch_size,\n",
    "                          shuffle=shuffle,collate_fn=collate_fn,drop_last=True)\n",
    "            \n",
    "            total_steps = len(train_loader) * epochs \n",
    "\n",
    "            scheduler = get_cosine_schedule_with_warmup(optimizer, \n",
    "                                                    num_warmup_steps = 0, # Default value in run_glue.py\n",
    "                                                    num_training_steps = total_steps)\n",
    "\n",
    "            mrrs = []\n",
    "\n",
    "            for epoch_i in range(0, epochs):\n",
    "                train_metrics = train_epoch(model, train_loader, loss_function, optimizer, scheduler, device)\n",
    "                eval_metrics = eval_epoch(model, eval_loader, loss_function, device)\n",
    "                \n",
    "                print(f\"EPOCH: {epoch_i}\")\n",
    "                print(train_metrics)\n",
    "                print(eval_metrics)\n",
    "                \n",
    "                #run.log(train_metrics)\n",
    "                #run.log(eval_metrics)\n",
    "                            "
   ]
  },
  {
   "cell_type": "code",
   "execution_count": null,
   "id": "65da88dc-4f07-4e6a-b765-ae72996a2adb",
   "metadata": {
    "execution": {
     "iopub.execute_input": "2023-05-07T14:17:29.269953Z",
     "iopub.status.busy": "2023-05-07T14:17:29.269787Z"
    },
    "tags": []
   },
   "outputs": [
    {
     "name": "stdout",
     "output_type": "stream",
     "text": [
      "FOLD 0\n",
      "--------------------------------\n"
     ]
    },
    {
     "data": {
      "application/vnd.jupyter.widget-view+json": {
       "model_id": "211689841d6b45bbb9850f01bf60aaf2",
       "version_major": 2,
       "version_minor": 0
      },
      "text/plain": [
       "  0%|          | 0/144 [00:00<?, ?it/s]"
      ]
     },
     "metadata": {},
     "output_type": "display_data"
    },
    {
     "data": {
      "application/vnd.jupyter.widget-view+json": {
       "model_id": "f99bbf63e3b340a486bdbd6e30048409",
       "version_major": 2,
       "version_minor": 0
      },
      "text/plain": [
       "  0%|          | 0/48 [00:00<?, ?it/s]"
      ]
     },
     "metadata": {},
     "output_type": "display_data"
    },
    {
     "name": "stdout",
     "output_type": "stream",
     "text": [
      "EPOCH: 0\n",
      "{'Train Loss': 0.31681531455574763, 'Train Accuracy': 0.8834635615348816, 'Train F1*100': 88.03209271227992}\n",
      "{'Eval Loss': 0.2474297343287617, 'Eval Accuracy': 0.9049479365348816, 'Eval F1': 90.44502617801048}\n"
     ]
    },
    {
     "data": {
      "application/vnd.jupyter.widget-view+json": {
       "model_id": "7ad4b351ca6a44598433179a2d013da2",
       "version_major": 2,
       "version_minor": 0
      },
      "text/plain": [
       "  0%|          | 0/144 [00:00<?, ?it/s]"
      ]
     },
     "metadata": {},
     "output_type": "display_data"
    },
    {
     "data": {
      "application/vnd.jupyter.widget-view+json": {
       "model_id": "cda83d31fff442a599a2f8cb9959564c",
       "version_major": 2,
       "version_minor": 0
      },
      "text/plain": [
       "  0%|          | 0/48 [00:00<?, ?it/s]"
      ]
     },
     "metadata": {},
     "output_type": "display_data"
    },
    {
     "name": "stdout",
     "output_type": "stream",
     "text": [
      "EPOCH: 1\n",
      "{'Train Loss': 0.24715655990358856, 'Train Accuracy': 0.9129774570465088, 'Train F1*100': 91.12242638919636}\n",
      "{'Eval Loss': 0.23868200516638657, 'Eval Accuracy': 0.9264323115348816, 'Eval F1': 92.48170326014638}\n"
     ]
    },
    {
     "data": {
      "application/vnd.jupyter.widget-view+json": {
       "model_id": "7a076784cdf040e4bf0e43871bd8497b",
       "version_major": 2,
       "version_minor": 0
      },
      "text/plain": [
       "  0%|          | 0/144 [00:00<?, ?it/s]"
      ]
     },
     "metadata": {},
     "output_type": "display_data"
    },
    {
     "data": {
      "application/vnd.jupyter.widget-view+json": {
       "model_id": "6a16a78deb064c95a8f38cdba9ec0514",
       "version_major": 2,
       "version_minor": 0
      },
      "text/plain": [
       "  0%|          | 0/48 [00:00<?, ?it/s]"
      ]
     },
     "metadata": {},
     "output_type": "display_data"
    },
    {
     "name": "stdout",
     "output_type": "stream",
     "text": [
      "EPOCH: 2\n",
      "{'Train Loss': 0.22286956508954367, 'Train Accuracy': 0.9201388955116272, 'Train F1*100': 91.77101967799642}\n",
      "{'Eval Loss': 0.2725509109441191, 'Eval Accuracy': 0.912109375, 'Eval F1': 90.9090909090909}\n"
     ]
    },
    {
     "data": {
      "application/vnd.jupyter.widget-view+json": {
       "model_id": "1aec556bb4ec4e96a42376938d1f4ffe",
       "version_major": 2,
       "version_minor": 0
      },
      "text/plain": [
       "  0%|          | 0/144 [00:00<?, ?it/s]"
      ]
     },
     "metadata": {},
     "output_type": "display_data"
    },
    {
     "data": {
      "application/vnd.jupyter.widget-view+json": {
       "model_id": "63dfb1fadf014297acdb7ea26d9fd532",
       "version_major": 2,
       "version_minor": 0
      },
      "text/plain": [
       "  0%|          | 0/48 [00:00<?, ?it/s]"
      ]
     },
     "metadata": {},
     "output_type": "display_data"
    },
    {
     "name": "stdout",
     "output_type": "stream",
     "text": [
      "EPOCH: 3\n",
      "{'Train Loss': 0.216647440334782, 'Train Accuracy': 0.9325087070465088, 'Train F1*100': 92.9970727313668}\n",
      "{'Eval Loss': 0.24896533919187883, 'Eval Accuracy': 0.923828125, 'Eval F1': 91.88063844552393}\n"
     ]
    },
    {
     "data": {
      "application/vnd.jupyter.widget-view+json": {
       "model_id": "7380da4d4429421489c17732c2968f16",
       "version_major": 2,
       "version_minor": 0
      },
      "text/plain": [
       "  0%|          | 0/144 [00:00<?, ?it/s]"
      ]
     },
     "metadata": {},
     "output_type": "display_data"
    },
    {
     "data": {
      "application/vnd.jupyter.widget-view+json": {
       "model_id": "0c6f6d893b63403e92609093f3b45e22",
       "version_major": 2,
       "version_minor": 0
      },
      "text/plain": [
       "  0%|          | 0/48 [00:00<?, ?it/s]"
      ]
     },
     "metadata": {},
     "output_type": "display_data"
    },
    {
     "name": "stdout",
     "output_type": "stream",
     "text": [
      "EPOCH: 4\n",
      "{'Train Loss': 0.19374608892636994, 'Train Accuracy': 0.9348958134651184, 'Train F1*100': 93.24019828751692}\n",
      "{'Eval Loss': 0.25867491130096215, 'Eval Accuracy': 0.92578125, 'Eval F1': 92.22373806275579}\n",
      "FOLD 1\n",
      "--------------------------------\n"
     ]
    },
    {
     "data": {
      "application/vnd.jupyter.widget-view+json": {
       "model_id": "18a3a12b1ded4cb0981d85992bc6da70",
       "version_major": 2,
       "version_minor": 0
      },
      "text/plain": [
       "  0%|          | 0/144 [00:00<?, ?it/s]"
      ]
     },
     "metadata": {},
     "output_type": "display_data"
    },
    {
     "data": {
      "application/vnd.jupyter.widget-view+json": {
       "model_id": "17c7b7a65fe343e88ff523d3faf487d7",
       "version_major": 2,
       "version_minor": 0
      },
      "text/plain": [
       "  0%|          | 0/48 [00:00<?, ?it/s]"
      ]
     },
     "metadata": {},
     "output_type": "display_data"
    },
    {
     "name": "stdout",
     "output_type": "stream",
     "text": [
      "EPOCH: 0\n",
      "{'Train Loss': 0.2574085464908017, 'Train Accuracy': 0.913194477558136, 'Train F1*100': 90.87591240875913}\n",
      "{'Eval Loss': 0.24366629340996346, 'Eval Accuracy': 0.9251302480697632, 'Eval F1': 92.8259513412352}\n"
     ]
    },
    {
     "data": {
      "application/vnd.jupyter.widget-view+json": {
       "model_id": "e275f5395f764bf7a9982bb236c6dc93",
       "version_major": 2,
       "version_minor": 0
      },
      "text/plain": [
       "  0%|          | 0/144 [00:00<?, ?it/s]"
      ]
     },
     "metadata": {},
     "output_type": "display_data"
    },
    {
     "data": {
      "application/vnd.jupyter.widget-view+json": {
       "model_id": "ff879f8954c2419d853428db60ddc375",
       "version_major": 2,
       "version_minor": 0
      },
      "text/plain": [
       "  0%|          | 0/48 [00:00<?, ?it/s]"
      ]
     },
     "metadata": {},
     "output_type": "display_data"
    },
    {
     "name": "stdout",
     "output_type": "stream",
     "text": [
      "EPOCH: 1\n",
      "{'Train Loss': 0.2298929796088487, 'Train Accuracy': 0.9197048544883728, 'Train F1*100': 91.5832575068244}\n",
      "{'Eval Loss': 0.2502700425684452, 'Eval Accuracy': 0.9264323115348816, 'Eval F1': 92.72376046361882}\n"
     ]
    },
    {
     "data": {
      "application/vnd.jupyter.widget-view+json": {
       "model_id": "ce0cb8c217414dc2a95ccb3087953bf3",
       "version_major": 2,
       "version_minor": 0
      },
      "text/plain": [
       "  0%|          | 0/144 [00:00<?, ?it/s]"
      ]
     },
     "metadata": {},
     "output_type": "display_data"
    },
    {
     "data": {
      "application/vnd.jupyter.widget-view+json": {
       "model_id": "df08057c4b4f4c01a6e171553a042b58",
       "version_major": 2,
       "version_minor": 0
      },
      "text/plain": [
       "  0%|          | 0/48 [00:00<?, ?it/s]"
      ]
     },
     "metadata": {},
     "output_type": "display_data"
    },
    {
     "name": "stdout",
     "output_type": "stream",
     "text": [
      "EPOCH: 2\n",
      "{'Train Loss': 0.22139333496387634, 'Train Accuracy': 0.9279513955116272, 'Train F1*100': 92.53261358524516}\n",
      "{'Eval Loss': 0.260721428009371, 'Eval Accuracy': 0.923828125, 'Eval F1': 92.52396166134186}\n"
     ]
    },
    {
     "data": {
      "application/vnd.jupyter.widget-view+json": {
       "model_id": "266b20b5c1a94883901179d962e71462",
       "version_major": 2,
       "version_minor": 0
      },
      "text/plain": [
       "  0%|          | 0/144 [00:00<?, ?it/s]"
      ]
     },
     "metadata": {},
     "output_type": "display_data"
    },
    {
     "data": {
      "application/vnd.jupyter.widget-view+json": {
       "model_id": "a257fa36eeeb411285990304975e4c07",
       "version_major": 2,
       "version_minor": 0
      },
      "text/plain": [
       "  0%|          | 0/48 [00:00<?, ?it/s]"
      ]
     },
     "metadata": {},
     "output_type": "display_data"
    },
    {
     "name": "stdout",
     "output_type": "stream",
     "text": [
      "EPOCH: 3\n",
      "{'Train Loss': 0.19271298691940805, 'Train Accuracy': 0.9392361044883728, 'Train F1*100': 93.5513588208199}\n",
      "{'Eval Loss': 0.24519921959533045, 'Eval Accuracy': 0.9244791865348816, 'Eval F1': 92.39842726081258}\n"
     ]
    },
    {
     "data": {
      "application/vnd.jupyter.widget-view+json": {
       "model_id": "9914e044b79d4b7c84209a563ddc155f",
       "version_major": 2,
       "version_minor": 0
      },
      "text/plain": [
       "  0%|          | 0/144 [00:00<?, ?it/s]"
      ]
     },
     "metadata": {},
     "output_type": "display_data"
    },
    {
     "data": {
      "application/vnd.jupyter.widget-view+json": {
       "model_id": "1a679b296b534cfea90dd3f2440ac3b4",
       "version_major": 2,
       "version_minor": 0
      },
      "text/plain": [
       "  0%|          | 0/48 [00:00<?, ?it/s]"
      ]
     },
     "metadata": {},
     "output_type": "display_data"
    },
    {
     "name": "stdout",
     "output_type": "stream",
     "text": [
      "EPOCH: 4\n",
      "{'Train Loss': 0.17086433510606489, 'Train Accuracy': 0.947265625, 'Train F1*100': 94.47852760736197}\n",
      "{'Eval Loss': 0.2508231078196938, 'Eval Accuracy': 0.9231771230697632, 'Eval F1': 92.35751295336789}\n",
      "FOLD 2\n",
      "--------------------------------\n"
     ]
    },
    {
     "data": {
      "application/vnd.jupyter.widget-view+json": {
       "model_id": "c10fecb0ee8c4ae7ae181db6aaf4c552",
       "version_major": 2,
       "version_minor": 0
      },
      "text/plain": [
       "  0%|          | 0/144 [00:00<?, ?it/s]"
      ]
     },
     "metadata": {},
     "output_type": "display_data"
    },
    {
     "data": {
      "application/vnd.jupyter.widget-view+json": {
       "model_id": "1af60bd828bf4162916404e49166d96b",
       "version_major": 2,
       "version_minor": 0
      },
      "text/plain": [
       "  0%|          | 0/48 [00:00<?, ?it/s]"
      ]
     },
     "metadata": {},
     "output_type": "display_data"
    },
    {
     "name": "stdout",
     "output_type": "stream",
     "text": [
      "EPOCH: 0\n",
      "{'Train Loss': 0.23052460146653983, 'Train Accuracy': 0.9214409589767456, 'Train F1*100': 91.91603394372488}\n",
      "{'Eval Loss': 0.2434702329337597, 'Eval Accuracy': 0.9251302480697632, 'Eval F1': 92.67982176957352}\n"
     ]
    },
    {
     "data": {
      "application/vnd.jupyter.widget-view+json": {
       "model_id": "4a257e0217c7470898bacbbb484c5bf1",
       "version_major": 2,
       "version_minor": 0
      },
      "text/plain": [
       "  0%|          | 0/144 [00:00<?, ?it/s]"
      ]
     },
     "metadata": {},
     "output_type": "display_data"
    },
    {
     "data": {
      "application/vnd.jupyter.widget-view+json": {
       "model_id": "107744416c53489db5962bdd8f1d0fd8",
       "version_major": 2,
       "version_minor": 0
      },
      "text/plain": [
       "  0%|          | 0/48 [00:00<?, ?it/s]"
      ]
     },
     "metadata": {},
     "output_type": "display_data"
    },
    {
     "name": "stdout",
     "output_type": "stream",
     "text": [
      "EPOCH: 1\n",
      "{'Train Loss': 0.2278642606559313, 'Train Accuracy': 0.9273003339767456, 'Train F1*100': 92.44304083013762}\n",
      "{'Eval Loss': 0.2172356527298689, 'Eval Accuracy': 0.93359375, 'Eval F1': 93.22709163346613}\n"
     ]
    },
    {
     "data": {
      "application/vnd.jupyter.widget-view+json": {
       "model_id": "9a31447fbd294a12a0c737d530135755",
       "version_major": 2,
       "version_minor": 0
      },
      "text/plain": [
       "  0%|          | 0/144 [00:00<?, ?it/s]"
      ]
     },
     "metadata": {},
     "output_type": "display_data"
    },
    {
     "data": {
      "application/vnd.jupyter.widget-view+json": {
       "model_id": "98fc3c9f19ee4b04b48e6a0566ac3f49",
       "version_major": 2,
       "version_minor": 0
      },
      "text/plain": [
       "  0%|          | 0/48 [00:00<?, ?it/s]"
      ]
     },
     "metadata": {},
     "output_type": "display_data"
    },
    {
     "name": "stdout",
     "output_type": "stream",
     "text": [
      "EPOCH: 2\n",
      "{'Train Loss': 0.22236991903951597, 'Train Accuracy': 0.9246962070465088, 'Train F1*100': 92.07219556774045}\n",
      "{'Eval Loss': 0.2206818088501071, 'Eval Accuracy': 0.9296875, 'Eval F1': 92.79038718291055}\n"
     ]
    },
    {
     "data": {
      "application/vnd.jupyter.widget-view+json": {
       "model_id": "893d9a477cb54b338f408d9d3d12a9d9",
       "version_major": 2,
       "version_minor": 0
      },
      "text/plain": [
       "  0%|          | 0/144 [00:00<?, ?it/s]"
      ]
     },
     "metadata": {},
     "output_type": "display_data"
    },
    {
     "data": {
      "application/vnd.jupyter.widget-view+json": {
       "model_id": "dc775d84d4b8440c9e83bc303c3c4f28",
       "version_major": 2,
       "version_minor": 0
      },
      "text/plain": [
       "  0%|          | 0/48 [00:00<?, ?it/s]"
      ]
     },
     "metadata": {},
     "output_type": "display_data"
    },
    {
     "name": "stdout",
     "output_type": "stream",
     "text": [
      "EPOCH: 3\n",
      "{'Train Loss': 0.19973498370705378, 'Train Accuracy': 0.9359809160232544, 'Train F1*100': 93.46622369878185}\n",
      "{'Eval Loss': 0.2279243153752759, 'Eval Accuracy': 0.9348958730697632, 'Eval F1': 93.50649350649351}\n"
     ]
    },
    {
     "data": {
      "application/vnd.jupyter.widget-view+json": {
       "model_id": "e214af3e04484182a3d1febe28f0662f",
       "version_major": 2,
       "version_minor": 0
      },
      "text/plain": [
       "  0%|          | 0/144 [00:00<?, ?it/s]"
      ]
     },
     "metadata": {},
     "output_type": "display_data"
    },
    {
     "data": {
      "application/vnd.jupyter.widget-view+json": {
       "model_id": "2f5dadcc3d094793bd9defe88a9c2491",
       "version_major": 2,
       "version_minor": 0
      },
      "text/plain": [
       "  0%|          | 0/48 [00:00<?, ?it/s]"
      ]
     },
     "metadata": {},
     "output_type": "display_data"
    },
    {
     "name": "stdout",
     "output_type": "stream",
     "text": [
      "EPOCH: 4\n",
      "{'Train Loss': 0.18445630942005664, 'Train Accuracy': 0.9388020634651184, 'Train F1*100': 93.69127516778522}\n",
      "{'Eval Loss': 0.22688488433292756, 'Eval Accuracy': 0.9329427480697632, 'Eval F1': 93.29863370201691}\n",
      "FOLD 3\n",
      "--------------------------------\n"
     ]
    },
    {
     "data": {
      "application/vnd.jupyter.widget-view+json": {
       "model_id": "b59707edbee8490ead305996544f08ca",
       "version_major": 2,
       "version_minor": 0
      },
      "text/plain": [
       "  0%|          | 0/144 [00:00<?, ?it/s]"
      ]
     },
     "metadata": {},
     "output_type": "display_data"
    },
    {
     "data": {
      "application/vnd.jupyter.widget-view+json": {
       "model_id": "500e1d2fca8b4a64b8175d321522f6d8",
       "version_major": 2,
       "version_minor": 0
      },
      "text/plain": [
       "  0%|          | 0/48 [00:00<?, ?it/s]"
      ]
     },
     "metadata": {},
     "output_type": "display_data"
    },
    {
     "name": "stdout",
     "output_type": "stream",
     "text": [
      "EPOCH: 0\n",
      "{'Train Loss': 0.2468160952363784, 'Train Accuracy': 0.9223090410232544, 'Train F1*100': 91.84881602914389}\n",
      "{'Eval Loss': 0.23880745008743057, 'Eval Accuracy': 0.9270833730697632, 'Eval F1': 91.88405797101449}\n"
     ]
    },
    {
     "data": {
      "application/vnd.jupyter.widget-view+json": {
       "model_id": "a88055fafb4e4d0d840ef87ad7fea2e7",
       "version_major": 2,
       "version_minor": 0
      },
      "text/plain": [
       "  0%|          | 0/144 [00:00<?, ?it/s]"
      ]
     },
     "metadata": {},
     "output_type": "display_data"
    },
    {
     "data": {
      "application/vnd.jupyter.widget-view+json": {
       "model_id": "ae285936d30f445ba66eb5ee8e211e80",
       "version_major": 2,
       "version_minor": 0
      },
      "text/plain": [
       "  0%|          | 0/48 [00:00<?, ?it/s]"
      ]
     },
     "metadata": {},
     "output_type": "display_data"
    },
    {
     "name": "stdout",
     "output_type": "stream",
     "text": [
      "EPOCH: 1\n",
      "{'Train Loss': 0.26514890921923023, 'Train Accuracy': 0.9157986044883728, 'Train F1*100': 91.38925876608965}\n",
      "{'Eval Loss': 0.2422049029264599, 'Eval Accuracy': 0.9290364980697632, 'Eval F1': 92.67965077233042}\n"
     ]
    },
    {
     "data": {
      "application/vnd.jupyter.widget-view+json": {
       "model_id": "4f41e509b4d5461db3a0055fbd5d9bf0",
       "version_major": 2,
       "version_minor": 0
      },
      "text/plain": [
       "  0%|          | 0/144 [00:00<?, ?it/s]"
      ]
     },
     "metadata": {},
     "output_type": "display_data"
    },
    {
     "data": {
      "application/vnd.jupyter.widget-view+json": {
       "model_id": "faea0edef0c6460697549b7a870f2eb7",
       "version_major": 2,
       "version_minor": 0
      },
      "text/plain": [
       "  0%|          | 0/48 [00:00<?, ?it/s]"
      ]
     },
     "metadata": {},
     "output_type": "display_data"
    },
    {
     "name": "stdout",
     "output_type": "stream",
     "text": [
      "EPOCH: 2\n",
      "{'Train Loss': 0.24141717875479823, 'Train Accuracy': 0.9203559160232544, 'Train F1*100': 91.85349611542729}\n",
      "{'Eval Loss': 0.2231445969082415, 'Eval Accuracy': 0.9361979365348816, 'Eval F1': 93.14685314685313}\n"
     ]
    },
    {
     "data": {
      "application/vnd.jupyter.widget-view+json": {
       "model_id": "a271d7d6f2dd43e8897030298ccd8929",
       "version_major": 2,
       "version_minor": 0
      },
      "text/plain": [
       "  0%|          | 0/144 [00:00<?, ?it/s]"
      ]
     },
     "metadata": {},
     "output_type": "display_data"
    },
    {
     "data": {
      "application/vnd.jupyter.widget-view+json": {
       "model_id": "a3b610d72e95483c81b499f7a0d33f8d",
       "version_major": 2,
       "version_minor": 0
      },
      "text/plain": [
       "  0%|          | 0/48 [00:00<?, ?it/s]"
      ]
     },
     "metadata": {},
     "output_type": "display_data"
    }
   ],
   "source": [
    "cross_validation(\"A\", model = model,\n",
    "             dataset=dataset, \n",
    "             loss_function=nn.CrossEntropyLoss(), \n",
    "             collate_fn=topg_collate,\n",
    "             device=torch.device(\"cuda\"),\n",
    "                     random_state=69,\n",
    "                     shuffle=True)"
   ]
  },
  {
   "cell_type": "code",
   "execution_count": null,
   "id": "77fc9ed2-6667-4b36-af58-0ca10e7feb06",
   "metadata": {},
   "outputs": [],
   "source": []
  }
 ],
 "metadata": {
  "kernelspec": {
   "display_name": "Python 3 (ipykernel)",
   "language": "python",
   "name": "python3"
  },
  "language_info": {
   "codemirror_mode": {
    "name": "ipython",
    "version": 3
   },
   "file_extension": ".py",
   "mimetype": "text/x-python",
   "name": "python",
   "nbconvert_exporter": "python",
   "pygments_lexer": "ipython3",
   "version": "3.10.6"
  }
 },
 "nbformat": 4,
 "nbformat_minor": 5
}
